{
 "cells": [
  {
   "cell_type": "code",
   "execution_count": 10,
   "id": "initial_id",
   "metadata": {
    "collapsed": true,
    "ExecuteTime": {
     "end_time": "2023-11-30T12:19:32.972551Z",
     "start_time": "2023-11-30T12:19:32.943594Z"
    }
   },
   "outputs": [],
   "source": [
    "import os\n",
    "import sys\n",
    "\n",
    "sys.path.append(os.path.abspath(os.path.join('..')))"
   ]
  },
  {
   "cell_type": "code",
   "execution_count": 11,
   "outputs": [],
   "source": [
    "import tomli\n",
    "import pprint\n",
    "\n",
    "from src.cltrier_promptClassify import Pipeline"
   ],
   "metadata": {
    "collapsed": false,
    "ExecuteTime": {
     "end_time": "2023-11-30T12:19:33.258145Z",
     "start_time": "2023-11-30T12:19:33.234461Z"
    }
   },
   "id": "d9dc1ce8c9d05332"
  },
  {
   "cell_type": "code",
   "execution_count": 12,
   "outputs": [
    {
     "name": "stdout",
     "output_type": "stream",
     "text": [
      "{'classify': {'classes': ['Wirtschaft',\n",
      "                          'Migration',\n",
      "                          'Demokratie',\n",
      "                          'Ukraineunterstützung',\n",
      "                          'Energiewende'],\n",
      "              'models': [['flan-t5-small', 'google/flan-t5-small'],\n",
      "                         ['mt0-small', 'bigscience/mt0-small']],\n",
      "              'templates': [['base',\n",
      "                             'Categorize the following tweet into one of the '\n",
      "                             'listed classes {classes}:\\n'\n",
      "                             \"'''{text}'''\"],\n",
      "                            ['trans',\n",
      "                             'Ordne den folgenden Tweet in eine der '\n",
      "                             'aufgelisteten Kategorien ein {classes}:\\n'\n",
      "                             \"'''{text}'''\"]]},\n",
      " 'dataset': {'batch_size': 2,\n",
      "             'gold_column': 'topic',\n",
      "             'path': './/data.csv',\n",
      "             'text_column': 'text'},\n",
      " 'do_classification': True,\n",
      " 'do_evaluation': True,\n",
      " 'do_export': True,\n",
      " 'export_path': './/results/'}\n"
     ]
    }
   ],
   "source": [
    "CONFIG: dict = tomli.load(open('./config.toml', 'rb'))\n",
    "CONFIG['export_path'] = CONFIG['export_path'].replace('./examples', './')\n",
    "CONFIG['dataset']['path'] = CONFIG['dataset']['path'].replace('./examples', './')\n",
    "pprint.pprint(CONFIG)"
   ],
   "metadata": {
    "collapsed": false,
    "ExecuteTime": {
     "end_time": "2023-11-30T12:19:33.593181Z",
     "start_time": "2023-11-30T12:19:33.560312Z"
    }
   },
   "id": "fa47ce223d88b519"
  },
  {
   "cell_type": "code",
   "execution_count": 13,
   "outputs": [
    {
     "name": "stderr",
     "output_type": "stream",
     "text": [
      "> classification\n",
      "100%|██████████| 8/8 [00:02<00:00,  3.86it/s]\n",
      "100%|██████████| 8/8 [00:07<00:00,  1.14it/s]\n",
      "100%|██████████| 8/8 [00:16<00:00,  2.05s/it]\n",
      "100%|██████████| 8/8 [00:16<00:00,  2.11s/it]\n",
      "> evaluation\n",
      "> export\n"
     ]
    }
   ],
   "source": [
    "results = Pipeline(CONFIG)()"
   ],
   "metadata": {
    "collapsed": false,
    "ExecuteTime": {
     "end_time": "2023-11-30T12:20:26.584764Z",
     "start_time": "2023-11-30T12:19:37.731188Z"
    }
   },
   "id": "a74421ffbc0aaaeb"
  },
  {
   "cell_type": "code",
   "execution_count": 18,
   "outputs": [
    {
     "data": {
      "text/plain": "'base'"
     },
     "metadata": {},
     "output_type": "display_data"
    },
    {
     "data": {
      "text/plain": "                                                 text                 topic   \n0   #badenwürttemberg führt zum Jahresbeginn eine ...          Energiewende  \\\n1   Trotz der #Inflation hat sich die Zahlungsmora...            Wirtschaft   \n2   Können wir Ackerflächen doppelt nutzen, um Sol...          Energiewende   \n3   Wir müssen Energie sparen? Das gilt offenbar n...          Energiewende   \n4   Wie Putins Angriffskrieg die Ukraine stark gem...  Ukraineunterstützung   \n5   #Lambrecht ja zeit zu gehen,#Scholz sollte ihr...  Ukraineunterstützung   \n6   Ob #Links-#Gruene Parteibonzen auch von #Strom...          Energiewende   \n7   #Gasspeicher zu 99,55% gefüllt.\\nAb 1. Dezembe...          Energiewende   \n8   Flüchtlinge beziehen Berliner Pflegeheim, Über...             Migration   \n9   Die #Energiewende muss neu gedacht werden. htt...          Energiewende   \n10  Der Bund übernimmt jetzt Uniper. Bezahlen müss...            Wirtschaft   \n11  Der FDP faellt nichts anderes ein als Frecking...            Wirtschaft   \n12  Politiker fordert: „Kein Bargeld mehr für Flüc...             Migration   \n13  Die Sanktionen gegen Russland wirken auch in Ö...  Ukraineunterstützung   \n14  Nein, es ist die beharrlicher Schikane der Par...            Demokratie   \n15  Waffenlieferungen an Bedingungen in Richtung D...  Ukraineunterstützung   \n\n   sentiment     prediction  \n0    neutral         Energy  \n1    positiv          Union  \n2    positiv    Energywende  \n3    negativ        Tourism  \n4    neutral        Ukraine  \n5    negativ  Communication  \n6    negativ          Union  \n7    positiv    Energywende  \n8    negativ      Wirschaft  \n9    neutral    Energywende  \n10   negativ      Wirschaft  \n11   negativ    Energywende  \n12   neutral  Communication  \n13   negativ  Communication  \n14   negativ          Union  \n15   positiv   Energiewende  ",
      "text/html": "<div>\n<style scoped>\n    .dataframe tbody tr th:only-of-type {\n        vertical-align: middle;\n    }\n\n    .dataframe tbody tr th {\n        vertical-align: top;\n    }\n\n    .dataframe thead th {\n        text-align: right;\n    }\n</style>\n<table border=\"1\" class=\"dataframe\">\n  <thead>\n    <tr style=\"text-align: right;\">\n      <th></th>\n      <th>text</th>\n      <th>topic</th>\n      <th>sentiment</th>\n      <th>prediction</th>\n    </tr>\n  </thead>\n  <tbody>\n    <tr>\n      <th>0</th>\n      <td>#badenwürttemberg führt zum Jahresbeginn eine ...</td>\n      <td>Energiewende</td>\n      <td>neutral</td>\n      <td>Energy</td>\n    </tr>\n    <tr>\n      <th>1</th>\n      <td>Trotz der #Inflation hat sich die Zahlungsmora...</td>\n      <td>Wirtschaft</td>\n      <td>positiv</td>\n      <td>Union</td>\n    </tr>\n    <tr>\n      <th>2</th>\n      <td>Können wir Ackerflächen doppelt nutzen, um Sol...</td>\n      <td>Energiewende</td>\n      <td>positiv</td>\n      <td>Energywende</td>\n    </tr>\n    <tr>\n      <th>3</th>\n      <td>Wir müssen Energie sparen? Das gilt offenbar n...</td>\n      <td>Energiewende</td>\n      <td>negativ</td>\n      <td>Tourism</td>\n    </tr>\n    <tr>\n      <th>4</th>\n      <td>Wie Putins Angriffskrieg die Ukraine stark gem...</td>\n      <td>Ukraineunterstützung</td>\n      <td>neutral</td>\n      <td>Ukraine</td>\n    </tr>\n    <tr>\n      <th>5</th>\n      <td>#Lambrecht ja zeit zu gehen,#Scholz sollte ihr...</td>\n      <td>Ukraineunterstützung</td>\n      <td>negativ</td>\n      <td>Communication</td>\n    </tr>\n    <tr>\n      <th>6</th>\n      <td>Ob #Links-#Gruene Parteibonzen auch von #Strom...</td>\n      <td>Energiewende</td>\n      <td>negativ</td>\n      <td>Union</td>\n    </tr>\n    <tr>\n      <th>7</th>\n      <td>#Gasspeicher zu 99,55% gefüllt.\\nAb 1. Dezembe...</td>\n      <td>Energiewende</td>\n      <td>positiv</td>\n      <td>Energywende</td>\n    </tr>\n    <tr>\n      <th>8</th>\n      <td>Flüchtlinge beziehen Berliner Pflegeheim, Über...</td>\n      <td>Migration</td>\n      <td>negativ</td>\n      <td>Wirschaft</td>\n    </tr>\n    <tr>\n      <th>9</th>\n      <td>Die #Energiewende muss neu gedacht werden. htt...</td>\n      <td>Energiewende</td>\n      <td>neutral</td>\n      <td>Energywende</td>\n    </tr>\n    <tr>\n      <th>10</th>\n      <td>Der Bund übernimmt jetzt Uniper. Bezahlen müss...</td>\n      <td>Wirtschaft</td>\n      <td>negativ</td>\n      <td>Wirschaft</td>\n    </tr>\n    <tr>\n      <th>11</th>\n      <td>Der FDP faellt nichts anderes ein als Frecking...</td>\n      <td>Wirtschaft</td>\n      <td>negativ</td>\n      <td>Energywende</td>\n    </tr>\n    <tr>\n      <th>12</th>\n      <td>Politiker fordert: „Kein Bargeld mehr für Flüc...</td>\n      <td>Migration</td>\n      <td>neutral</td>\n      <td>Communication</td>\n    </tr>\n    <tr>\n      <th>13</th>\n      <td>Die Sanktionen gegen Russland wirken auch in Ö...</td>\n      <td>Ukraineunterstützung</td>\n      <td>negativ</td>\n      <td>Communication</td>\n    </tr>\n    <tr>\n      <th>14</th>\n      <td>Nein, es ist die beharrlicher Schikane der Par...</td>\n      <td>Demokratie</td>\n      <td>negativ</td>\n      <td>Union</td>\n    </tr>\n    <tr>\n      <th>15</th>\n      <td>Waffenlieferungen an Bedingungen in Richtung D...</td>\n      <td>Ukraineunterstützung</td>\n      <td>positiv</td>\n      <td>Energiewende</td>\n    </tr>\n  </tbody>\n</table>\n</div>"
     },
     "metadata": {},
     "output_type": "display_data"
    },
    {
     "name": "stdout",
     "output_type": "stream",
     "text": [
      "------------------------------------------------\n"
     ]
    },
    {
     "data": {
      "text/plain": "'trans'"
     },
     "metadata": {},
     "output_type": "display_data"
    },
    {
     "data": {
      "text/plain": "                                                 text                 topic   \n0   #badenwürttemberg führt zum Jahresbeginn eine ...          Energiewende  \\\n1   Trotz der #Inflation hat sich die Zahlungsmora...            Wirtschaft   \n2   Können wir Ackerflächen doppelt nutzen, um Sol...          Energiewende   \n3   Wir müssen Energie sparen? Das gilt offenbar n...          Energiewende   \n4   Wie Putins Angriffskrieg die Ukraine stark gem...  Ukraineunterstützung   \n5   #Lambrecht ja zeit zu gehen,#Scholz sollte ihr...  Ukraineunterstützung   \n6   Ob #Links-#Gruene Parteibonzen auch von #Strom...          Energiewende   \n7   #Gasspeicher zu 99,55% gefüllt.\\nAb 1. Dezembe...          Energiewende   \n8   Flüchtlinge beziehen Berliner Pflegeheim, Über...             Migration   \n9   Die #Energiewende muss neu gedacht werden. htt...          Energiewende   \n10  Der Bund übernimmt jetzt Uniper. Bezahlen müss...            Wirtschaft   \n11  Der FDP faellt nichts anderes ein als Frecking...            Wirtschaft   \n12  Politiker fordert: „Kein Bargeld mehr für Flüc...             Migration   \n13  Die Sanktionen gegen Russland wirken auch in Ö...  Ukraineunterstützung   \n14  Nein, es ist die beharrlicher Schikane der Par...            Demokratie   \n15  Waffenlieferungen an Bedingungen in Richtung D...  Ukraineunterstützung   \n\n   sentiment                                         prediction  \n0    neutral               n http://t.co/Mi32zusc9o/n http://t.  \n1    positiv  The following tweet in one of the listed categ...  \n2    positiv  Ordn den following tweet in einem der aufgelis...  \n3    negativ  The naive nature of #Schneekanonen is not a pr...  \n4    neutral  Putin's attack on Ukraine has been a strong vi...  \n5    negativ                                        n#Träumer''  \n6    negativ                                                     \n7    positiv  nAb 1 December, the first fuel gas terminal in...  \n8    negativ                https://t.co/9Rc9XYsSBD #Habeck #Gr  \n9    neutral  The following tweet in a category listed in th...  \n10   negativ                                                     \n11   negativ                                        n n          \n12   neutral                                                     \n13   negativ                                                     \n14   negativ                                                     \n15   positiv  How much can man sink, Mr. President, Mr. Pres...  ",
      "text/html": "<div>\n<style scoped>\n    .dataframe tbody tr th:only-of-type {\n        vertical-align: middle;\n    }\n\n    .dataframe tbody tr th {\n        vertical-align: top;\n    }\n\n    .dataframe thead th {\n        text-align: right;\n    }\n</style>\n<table border=\"1\" class=\"dataframe\">\n  <thead>\n    <tr style=\"text-align: right;\">\n      <th></th>\n      <th>text</th>\n      <th>topic</th>\n      <th>sentiment</th>\n      <th>prediction</th>\n    </tr>\n  </thead>\n  <tbody>\n    <tr>\n      <th>0</th>\n      <td>#badenwürttemberg führt zum Jahresbeginn eine ...</td>\n      <td>Energiewende</td>\n      <td>neutral</td>\n      <td>n http://t.co/Mi32zusc9o/n http://t.</td>\n    </tr>\n    <tr>\n      <th>1</th>\n      <td>Trotz der #Inflation hat sich die Zahlungsmora...</td>\n      <td>Wirtschaft</td>\n      <td>positiv</td>\n      <td>The following tweet in one of the listed categ...</td>\n    </tr>\n    <tr>\n      <th>2</th>\n      <td>Können wir Ackerflächen doppelt nutzen, um Sol...</td>\n      <td>Energiewende</td>\n      <td>positiv</td>\n      <td>Ordn den following tweet in einem der aufgelis...</td>\n    </tr>\n    <tr>\n      <th>3</th>\n      <td>Wir müssen Energie sparen? Das gilt offenbar n...</td>\n      <td>Energiewende</td>\n      <td>negativ</td>\n      <td>The naive nature of #Schneekanonen is not a pr...</td>\n    </tr>\n    <tr>\n      <th>4</th>\n      <td>Wie Putins Angriffskrieg die Ukraine stark gem...</td>\n      <td>Ukraineunterstützung</td>\n      <td>neutral</td>\n      <td>Putin's attack on Ukraine has been a strong vi...</td>\n    </tr>\n    <tr>\n      <th>5</th>\n      <td>#Lambrecht ja zeit zu gehen,#Scholz sollte ihr...</td>\n      <td>Ukraineunterstützung</td>\n      <td>negativ</td>\n      <td>n#Träumer''</td>\n    </tr>\n    <tr>\n      <th>6</th>\n      <td>Ob #Links-#Gruene Parteibonzen auch von #Strom...</td>\n      <td>Energiewende</td>\n      <td>negativ</td>\n      <td></td>\n    </tr>\n    <tr>\n      <th>7</th>\n      <td>#Gasspeicher zu 99,55% gefüllt.\\nAb 1. Dezembe...</td>\n      <td>Energiewende</td>\n      <td>positiv</td>\n      <td>nAb 1 December, the first fuel gas terminal in...</td>\n    </tr>\n    <tr>\n      <th>8</th>\n      <td>Flüchtlinge beziehen Berliner Pflegeheim, Über...</td>\n      <td>Migration</td>\n      <td>negativ</td>\n      <td>https://t.co/9Rc9XYsSBD #Habeck #Gr</td>\n    </tr>\n    <tr>\n      <th>9</th>\n      <td>Die #Energiewende muss neu gedacht werden. htt...</td>\n      <td>Energiewende</td>\n      <td>neutral</td>\n      <td>The following tweet in a category listed in th...</td>\n    </tr>\n    <tr>\n      <th>10</th>\n      <td>Der Bund übernimmt jetzt Uniper. Bezahlen müss...</td>\n      <td>Wirtschaft</td>\n      <td>negativ</td>\n      <td></td>\n    </tr>\n    <tr>\n      <th>11</th>\n      <td>Der FDP faellt nichts anderes ein als Frecking...</td>\n      <td>Wirtschaft</td>\n      <td>negativ</td>\n      <td>n n</td>\n    </tr>\n    <tr>\n      <th>12</th>\n      <td>Politiker fordert: „Kein Bargeld mehr für Flüc...</td>\n      <td>Migration</td>\n      <td>neutral</td>\n      <td></td>\n    </tr>\n    <tr>\n      <th>13</th>\n      <td>Die Sanktionen gegen Russland wirken auch in Ö...</td>\n      <td>Ukraineunterstützung</td>\n      <td>negativ</td>\n      <td></td>\n    </tr>\n    <tr>\n      <th>14</th>\n      <td>Nein, es ist die beharrlicher Schikane der Par...</td>\n      <td>Demokratie</td>\n      <td>negativ</td>\n      <td></td>\n    </tr>\n    <tr>\n      <th>15</th>\n      <td>Waffenlieferungen an Bedingungen in Richtung D...</td>\n      <td>Ukraineunterstützung</td>\n      <td>positiv</td>\n      <td>How much can man sink, Mr. President, Mr. Pres...</td>\n    </tr>\n  </tbody>\n</table>\n</div>"
     },
     "metadata": {},
     "output_type": "display_data"
    },
    {
     "name": "stdout",
     "output_type": "stream",
     "text": [
      "------------------------------------------------\n"
     ]
    },
    {
     "data": {
      "text/plain": "'base'"
     },
     "metadata": {},
     "output_type": "display_data"
    },
    {
     "data": {
      "text/plain": "                                                 text                 topic   \n0   #badenwürttemberg führt zum Jahresbeginn eine ...          Energiewende  \\\n1   Trotz der #Inflation hat sich die Zahlungsmora...            Wirtschaft   \n2   Können wir Ackerflächen doppelt nutzen, um Sol...          Energiewende   \n3   Wir müssen Energie sparen? Das gilt offenbar n...          Energiewende   \n4   Wie Putins Angriffskrieg die Ukraine stark gem...  Ukraineunterstützung   \n5   #Lambrecht ja zeit zu gehen,#Scholz sollte ihr...  Ukraineunterstützung   \n6   Ob #Links-#Gruene Parteibonzen auch von #Strom...          Energiewende   \n7   #Gasspeicher zu 99,55% gefüllt.\\nAb 1. Dezembe...          Energiewende   \n8   Flüchtlinge beziehen Berliner Pflegeheim, Über...             Migration   \n9   Die #Energiewende muss neu gedacht werden. htt...          Energiewende   \n10  Der Bund übernimmt jetzt Uniper. Bezahlen müss...            Wirtschaft   \n11  Der FDP faellt nichts anderes ein als Frecking...            Wirtschaft   \n12  Politiker fordert: „Kein Bargeld mehr für Flüc...             Migration   \n13  Die Sanktionen gegen Russland wirken auch in Ö...  Ukraineunterstützung   \n14  Nein, es ist die beharrlicher Schikane der Par...            Demokratie   \n15  Waffenlieferungen an Bedingungen in Richtung D...  Ukraineunterstützung   \n\n   sentiment                                         prediction  \n0    neutral  'Energiewende', 'Energiewende', 'Energiewende'...  \n1    positiv  'Inkasso', 'Demokratie', 'Demokratie', 'Demokrati  \n2    positiv  'Energiewende', 'Energiewende', 'Energiewende'...  \n3    negativ  'Energiewende', 'Energiewende', 'Energiewende'...  \n4    neutral  'Ukraine', 'Migration', 'Demokratie', 'Demokratie  \n5    negativ     'Blitz', 'Migration', 'Demokratie', 'Demokrati  \n6    negativ                                            np.info  \n7    positiv      'Hysterie', 'Demokratie', 'Demokratie', 'Demo  \n8    negativ  'Flüchtlinge be taken from Berliner Pflegeheim...  \n9    neutral             \"\"\"Die #Energiewende muss neu gedacht.  \n10   negativ  'Die Deutsche Bank s'emporte a switzerland - '...  \n11   negativ  'Inflation', 'Demokratie', 'Demokratie', 'Demo...  \n12   neutral     'Blitz', 'Migration', 'Demokratie', 'Demokrati  \n13   negativ  'Wirtschaft', 'Migration', 'Demokratie', 'Demo...  \n14   negativ    'Demokratie', 'Demokratie', 'Demokratie', 'Demo  \n15   positiv  'Ukraine', 'Migration', 'Demokratie', 'Demokratie  ",
      "text/html": "<div>\n<style scoped>\n    .dataframe tbody tr th:only-of-type {\n        vertical-align: middle;\n    }\n\n    .dataframe tbody tr th {\n        vertical-align: top;\n    }\n\n    .dataframe thead th {\n        text-align: right;\n    }\n</style>\n<table border=\"1\" class=\"dataframe\">\n  <thead>\n    <tr style=\"text-align: right;\">\n      <th></th>\n      <th>text</th>\n      <th>topic</th>\n      <th>sentiment</th>\n      <th>prediction</th>\n    </tr>\n  </thead>\n  <tbody>\n    <tr>\n      <th>0</th>\n      <td>#badenwürttemberg führt zum Jahresbeginn eine ...</td>\n      <td>Energiewende</td>\n      <td>neutral</td>\n      <td>'Energiewende', 'Energiewende', 'Energiewende'...</td>\n    </tr>\n    <tr>\n      <th>1</th>\n      <td>Trotz der #Inflation hat sich die Zahlungsmora...</td>\n      <td>Wirtschaft</td>\n      <td>positiv</td>\n      <td>'Inkasso', 'Demokratie', 'Demokratie', 'Demokrati</td>\n    </tr>\n    <tr>\n      <th>2</th>\n      <td>Können wir Ackerflächen doppelt nutzen, um Sol...</td>\n      <td>Energiewende</td>\n      <td>positiv</td>\n      <td>'Energiewende', 'Energiewende', 'Energiewende'...</td>\n    </tr>\n    <tr>\n      <th>3</th>\n      <td>Wir müssen Energie sparen? Das gilt offenbar n...</td>\n      <td>Energiewende</td>\n      <td>negativ</td>\n      <td>'Energiewende', 'Energiewende', 'Energiewende'...</td>\n    </tr>\n    <tr>\n      <th>4</th>\n      <td>Wie Putins Angriffskrieg die Ukraine stark gem...</td>\n      <td>Ukraineunterstützung</td>\n      <td>neutral</td>\n      <td>'Ukraine', 'Migration', 'Demokratie', 'Demokratie</td>\n    </tr>\n    <tr>\n      <th>5</th>\n      <td>#Lambrecht ja zeit zu gehen,#Scholz sollte ihr...</td>\n      <td>Ukraineunterstützung</td>\n      <td>negativ</td>\n      <td>'Blitz', 'Migration', 'Demokratie', 'Demokrati</td>\n    </tr>\n    <tr>\n      <th>6</th>\n      <td>Ob #Links-#Gruene Parteibonzen auch von #Strom...</td>\n      <td>Energiewende</td>\n      <td>negativ</td>\n      <td>np.info</td>\n    </tr>\n    <tr>\n      <th>7</th>\n      <td>#Gasspeicher zu 99,55% gefüllt.\\nAb 1. Dezembe...</td>\n      <td>Energiewende</td>\n      <td>positiv</td>\n      <td>'Hysterie', 'Demokratie', 'Demokratie', 'Demo</td>\n    </tr>\n    <tr>\n      <th>8</th>\n      <td>Flüchtlinge beziehen Berliner Pflegeheim, Über...</td>\n      <td>Migration</td>\n      <td>negativ</td>\n      <td>'Flüchtlinge be taken from Berliner Pflegeheim...</td>\n    </tr>\n    <tr>\n      <th>9</th>\n      <td>Die #Energiewende muss neu gedacht werden. htt...</td>\n      <td>Energiewende</td>\n      <td>neutral</td>\n      <td>\"\"\"Die #Energiewende muss neu gedacht.</td>\n    </tr>\n    <tr>\n      <th>10</th>\n      <td>Der Bund übernimmt jetzt Uniper. Bezahlen müss...</td>\n      <td>Wirtschaft</td>\n      <td>negativ</td>\n      <td>'Die Deutsche Bank s'emporte a switzerland - '...</td>\n    </tr>\n    <tr>\n      <th>11</th>\n      <td>Der FDP faellt nichts anderes ein als Frecking...</td>\n      <td>Wirtschaft</td>\n      <td>negativ</td>\n      <td>'Inflation', 'Demokratie', 'Demokratie', 'Demo...</td>\n    </tr>\n    <tr>\n      <th>12</th>\n      <td>Politiker fordert: „Kein Bargeld mehr für Flüc...</td>\n      <td>Migration</td>\n      <td>neutral</td>\n      <td>'Blitz', 'Migration', 'Demokratie', 'Demokrati</td>\n    </tr>\n    <tr>\n      <th>13</th>\n      <td>Die Sanktionen gegen Russland wirken auch in Ö...</td>\n      <td>Ukraineunterstützung</td>\n      <td>negativ</td>\n      <td>'Wirtschaft', 'Migration', 'Demokratie', 'Demo...</td>\n    </tr>\n    <tr>\n      <th>14</th>\n      <td>Nein, es ist die beharrlicher Schikane der Par...</td>\n      <td>Demokratie</td>\n      <td>negativ</td>\n      <td>'Demokratie', 'Demokratie', 'Demokratie', 'Demo</td>\n    </tr>\n    <tr>\n      <th>15</th>\n      <td>Waffenlieferungen an Bedingungen in Richtung D...</td>\n      <td>Ukraineunterstützung</td>\n      <td>positiv</td>\n      <td>'Ukraine', 'Migration', 'Demokratie', 'Demokratie</td>\n    </tr>\n  </tbody>\n</table>\n</div>"
     },
     "metadata": {},
     "output_type": "display_data"
    },
    {
     "name": "stdout",
     "output_type": "stream",
     "text": [
      "------------------------------------------------\n"
     ]
    },
    {
     "data": {
      "text/plain": "'trans'"
     },
     "metadata": {},
     "output_type": "display_data"
    },
    {
     "data": {
      "text/plain": "                                                 text                 topic   \n0   #badenwürttemberg führt zum Jahresbeginn eine ...          Energiewende  \\\n1   Trotz der #Inflation hat sich die Zahlungsmora...            Wirtschaft   \n2   Können wir Ackerflächen doppelt nutzen, um Sol...          Energiewende   \n3   Wir müssen Energie sparen? Das gilt offenbar n...          Energiewende   \n4   Wie Putins Angriffskrieg die Ukraine stark gem...  Ukraineunterstützung   \n5   #Lambrecht ja zeit zu gehen,#Scholz sollte ihr...  Ukraineunterstützung   \n6   Ob #Links-#Gruene Parteibonzen auch von #Strom...          Energiewende   \n7   #Gasspeicher zu 99,55% gefüllt.\\nAb 1. Dezembe...          Energiewende   \n8   Flüchtlinge beziehen Berliner Pflegeheim, Über...             Migration   \n9   Die #Energiewende muss neu gedacht werden. htt...          Energiewende   \n10  Der Bund übernimmt jetzt Uniper. Bezahlen müss...            Wirtschaft   \n11  Der FDP faellt nichts anderes ein als Frecking...            Wirtschaft   \n12  Politiker fordert: „Kein Bargeld mehr für Flüc...             Migration   \n13  Die Sanktionen gegen Russland wirken auch in Ö...  Ukraineunterstützung   \n14  Nein, es ist die beharrlicher Schikane der Par...            Demokratie   \n15  Waffenlieferungen an Bedingungen in Richtung D...  Ukraineunterstützung   \n\n   sentiment                                         prediction  \n0    neutral  - 'Energiewende' - 'Energiewende' - 'Energiewe...  \n1    positiv                                     np.read(tweet)  \n2    positiv  'Energiewende', 'Energiewende', 'Energiewende'...  \n3    negativ      n = n.read_csv('%d', 'Energiewende', 'Energie  \n4    neutral                                            t.co.uk  \n5    negativ      'Die 'Migration', 'Demokratie', 'Demokratie',  \n6    negativ                                          t.co.info  \n7    positiv              n = n.readline() n = n.readline() n =  \n8    negativ      'Fluechtlinge', 'Demokratie', 'Demokratie', '  \n9    neutral                                          t.co.info  \n10   negativ                                           t.co.uk.  \n11   negativ  'Inflation', 'Demokratie', 'Demokratie', 'Demo...  \n12   neutral  'Facebook', 'Facebook', 'Demokratie', 'Demokra...  \n13   negativ  np.twitter.com/quickinfo/quickinfo/quickinfo/q...  \n14   negativ              n = n.read_tweet(n) n = n.read_tweet(  \n15   positiv  'Ukraine', 'Migration', 'Demokratie', 'Demokratie  ",
      "text/html": "<div>\n<style scoped>\n    .dataframe tbody tr th:only-of-type {\n        vertical-align: middle;\n    }\n\n    .dataframe tbody tr th {\n        vertical-align: top;\n    }\n\n    .dataframe thead th {\n        text-align: right;\n    }\n</style>\n<table border=\"1\" class=\"dataframe\">\n  <thead>\n    <tr style=\"text-align: right;\">\n      <th></th>\n      <th>text</th>\n      <th>topic</th>\n      <th>sentiment</th>\n      <th>prediction</th>\n    </tr>\n  </thead>\n  <tbody>\n    <tr>\n      <th>0</th>\n      <td>#badenwürttemberg führt zum Jahresbeginn eine ...</td>\n      <td>Energiewende</td>\n      <td>neutral</td>\n      <td>- 'Energiewende' - 'Energiewende' - 'Energiewe...</td>\n    </tr>\n    <tr>\n      <th>1</th>\n      <td>Trotz der #Inflation hat sich die Zahlungsmora...</td>\n      <td>Wirtschaft</td>\n      <td>positiv</td>\n      <td>np.read(tweet)</td>\n    </tr>\n    <tr>\n      <th>2</th>\n      <td>Können wir Ackerflächen doppelt nutzen, um Sol...</td>\n      <td>Energiewende</td>\n      <td>positiv</td>\n      <td>'Energiewende', 'Energiewende', 'Energiewende'...</td>\n    </tr>\n    <tr>\n      <th>3</th>\n      <td>Wir müssen Energie sparen? Das gilt offenbar n...</td>\n      <td>Energiewende</td>\n      <td>negativ</td>\n      <td>n = n.read_csv('%d', 'Energiewende', 'Energie</td>\n    </tr>\n    <tr>\n      <th>4</th>\n      <td>Wie Putins Angriffskrieg die Ukraine stark gem...</td>\n      <td>Ukraineunterstützung</td>\n      <td>neutral</td>\n      <td>t.co.uk</td>\n    </tr>\n    <tr>\n      <th>5</th>\n      <td>#Lambrecht ja zeit zu gehen,#Scholz sollte ihr...</td>\n      <td>Ukraineunterstützung</td>\n      <td>negativ</td>\n      <td>'Die 'Migration', 'Demokratie', 'Demokratie',</td>\n    </tr>\n    <tr>\n      <th>6</th>\n      <td>Ob #Links-#Gruene Parteibonzen auch von #Strom...</td>\n      <td>Energiewende</td>\n      <td>negativ</td>\n      <td>t.co.info</td>\n    </tr>\n    <tr>\n      <th>7</th>\n      <td>#Gasspeicher zu 99,55% gefüllt.\\nAb 1. Dezembe...</td>\n      <td>Energiewende</td>\n      <td>positiv</td>\n      <td>n = n.readline() n = n.readline() n =</td>\n    </tr>\n    <tr>\n      <th>8</th>\n      <td>Flüchtlinge beziehen Berliner Pflegeheim, Über...</td>\n      <td>Migration</td>\n      <td>negativ</td>\n      <td>'Fluechtlinge', 'Demokratie', 'Demokratie', '</td>\n    </tr>\n    <tr>\n      <th>9</th>\n      <td>Die #Energiewende muss neu gedacht werden. htt...</td>\n      <td>Energiewende</td>\n      <td>neutral</td>\n      <td>t.co.info</td>\n    </tr>\n    <tr>\n      <th>10</th>\n      <td>Der Bund übernimmt jetzt Uniper. Bezahlen müss...</td>\n      <td>Wirtschaft</td>\n      <td>negativ</td>\n      <td>t.co.uk.</td>\n    </tr>\n    <tr>\n      <th>11</th>\n      <td>Der FDP faellt nichts anderes ein als Frecking...</td>\n      <td>Wirtschaft</td>\n      <td>negativ</td>\n      <td>'Inflation', 'Demokratie', 'Demokratie', 'Demo...</td>\n    </tr>\n    <tr>\n      <th>12</th>\n      <td>Politiker fordert: „Kein Bargeld mehr für Flüc...</td>\n      <td>Migration</td>\n      <td>neutral</td>\n      <td>'Facebook', 'Facebook', 'Demokratie', 'Demokra...</td>\n    </tr>\n    <tr>\n      <th>13</th>\n      <td>Die Sanktionen gegen Russland wirken auch in Ö...</td>\n      <td>Ukraineunterstützung</td>\n      <td>negativ</td>\n      <td>np.twitter.com/quickinfo/quickinfo/quickinfo/q...</td>\n    </tr>\n    <tr>\n      <th>14</th>\n      <td>Nein, es ist die beharrlicher Schikane der Par...</td>\n      <td>Demokratie</td>\n      <td>negativ</td>\n      <td>n = n.read_tweet(n) n = n.read_tweet(</td>\n    </tr>\n    <tr>\n      <th>15</th>\n      <td>Waffenlieferungen an Bedingungen in Richtung D...</td>\n      <td>Ukraineunterstützung</td>\n      <td>positiv</td>\n      <td>'Ukraine', 'Migration', 'Demokratie', 'Demokratie</td>\n    </tr>\n  </tbody>\n</table>\n</div>"
     },
     "metadata": {},
     "output_type": "display_data"
    },
    {
     "name": "stdout",
     "output_type": "stream",
     "text": [
      "------------------------------------------------\n"
     ]
    }
   ],
   "source": [
    "for model_label, model_data in results['classify'].items():\n",
    "\tfor template_label, template_df in model_data.items():\n",
    "\t\tdisplay(template_label)\n",
    "\t\tdisplay(template_df)\n",
    "\t\tprint('-' * 48)"
   ],
   "metadata": {
    "collapsed": false,
    "ExecuteTime": {
     "end_time": "2023-11-30T12:22:23.864790Z",
     "start_time": "2023-11-30T12:22:23.814314Z"
    }
   },
   "id": "ec7af727bdd7d528"
  },
  {
   "cell_type": "code",
   "execution_count": 19,
   "outputs": [
    {
     "data": {
      "text/plain": "'base'"
     },
     "metadata": {},
     "output_type": "display_data"
    },
    {
     "data": {
      "text/plain": "topic\nDemokratie              0.0\nEnergiewende            0.0\nMigration               0.0\nUkraineunterstützung    0.0\nWirtschaft              0.0\nName: False, dtype: float64"
     },
     "metadata": {},
     "output_type": "display_data"
    },
    {
     "name": "stdout",
     "output_type": "stream",
     "text": [
      "------------------------------------------------\n"
     ]
    },
    {
     "data": {
      "text/plain": "'trans'"
     },
     "metadata": {},
     "output_type": "display_data"
    },
    {
     "data": {
      "text/plain": "topic\nDemokratie              0.0\nEnergiewende            0.0\nMigration               0.0\nUkraineunterstützung    0.0\nWirtschaft              0.0\nName: False, dtype: float64"
     },
     "metadata": {},
     "output_type": "display_data"
    },
    {
     "name": "stdout",
     "output_type": "stream",
     "text": [
      "------------------------------------------------\n"
     ]
    },
    {
     "data": {
      "text/plain": "'base'"
     },
     "metadata": {},
     "output_type": "display_data"
    },
    {
     "data": {
      "text/plain": "topic\nDemokratie              0.0\nEnergiewende            0.0\nMigration               0.0\nUkraineunterstützung    0.0\nWirtschaft              0.0\nName: False, dtype: float64"
     },
     "metadata": {},
     "output_type": "display_data"
    },
    {
     "name": "stdout",
     "output_type": "stream",
     "text": [
      "------------------------------------------------\n"
     ]
    },
    {
     "data": {
      "text/plain": "'trans'"
     },
     "metadata": {},
     "output_type": "display_data"
    },
    {
     "data": {
      "text/plain": "topic\nDemokratie              0.0\nEnergiewende            0.0\nMigration               0.0\nUkraineunterstützung    0.0\nWirtschaft              0.0\nName: False, dtype: float64"
     },
     "metadata": {},
     "output_type": "display_data"
    },
    {
     "name": "stdout",
     "output_type": "stream",
     "text": [
      "------------------------------------------------\n"
     ]
    }
   ],
   "source": [
    "for model_label, model_data in results['eval'].items():\n",
    "\tfor template_label, template_df in model_data.items():\n",
    "\t\tdisplay(template_label)\n",
    "\t\tdisplay(template_df)\n",
    "\t\tprint('-' * 48)"
   ],
   "metadata": {
    "collapsed": false,
    "ExecuteTime": {
     "end_time": "2023-11-30T12:22:37.602262Z",
     "start_time": "2023-11-30T12:22:37.468726Z"
    }
   },
   "id": "56812470c099f5ec"
  }
 ],
 "metadata": {
  "kernelspec": {
   "display_name": "Python 3",
   "language": "python",
   "name": "python3"
  },
  "language_info": {
   "codemirror_mode": {
    "name": "ipython",
    "version": 2
   },
   "file_extension": ".py",
   "mimetype": "text/x-python",
   "name": "python",
   "nbconvert_exporter": "python",
   "pygments_lexer": "ipython2",
   "version": "2.7.6"
  }
 },
 "nbformat": 4,
 "nbformat_minor": 5
}
